{
 "cells": [
  {
   "cell_type": "code",
   "execution_count": 2,
   "metadata": {},
   "outputs": [],
   "source": [
    "import pandas as pd   \n",
    "import matplotlib.pyplot as plt\n",
    "import time\n",
    "\n",
    "from sklearn.linear_model import LinearRegression, Lasso, Ridge\n",
    "from sklearn.tree import DecisionTreeRegressor \n",
    "from sklearn.ensemble import RandomForestRegressor, GradientBoostingRegressor\n",
    "from sklearn import tree\n",
    "from sklearn.neighbors import KNeighborsRegressor\n",
    "\n",
    "from sklearn.model_selection import train_test_split, RepeatedKFold, GridSearchCV, cross_val_score\n",
    "from sklearn.metrics import mean_squared_error, r2_score\n",
    "from sklearn.preprocessing import MinMaxScaler\n",
    "\n",
    "from sklearn.pipeline import Pipeline\n",
    "\n",
    "from numpy import mean\n",
    "\n",
    "import warnings \n",
    "warnings.filterwarnings('ignore')"
   ]
  },
  {
   "cell_type": "markdown",
   "metadata": {},
   "source": [
    "loading the Toyota Used Cars Sales data"
   ]
  },
  {
   "cell_type": "code",
   "execution_count": 3,
   "metadata": {},
   "outputs": [],
   "source": [
    "df2 = pd.read_excel(\"DMforBA_DataSets\\ToyotaCorolla.xls\")\n",
    "df2 = df2.loc[:, df2.columns != 'Id']\n",
    "df = df2[['Price', 'Age_08_04', 'KM', 'Quarterly_Tax', 'Mfr_Guarantee', 'BOVAG_Guarantee', 'ABS','Airco', 'Metallic_Rim']]\n",
    "X = df.loc[:, df.columns != 'Price']\n",
    "y = df[['Price']]\n"
   ]
  },
  {
   "cell_type": "markdown",
   "metadata": {},
   "source": [
    "comparing models using cross-validation"
   ]
  },
  {
   "cell_type": "code",
   "execution_count": 1,
   "metadata": {},
   "outputs": [],
   "source": [
    "def fitting_models_CV():\n",
    "    cv = RepeatedKFold(n_splits=10, n_repeats=1)#, random_state=1)\n",
    "    \n",
    "    lr=LinearRegression()\n",
    "    ls = Lasso(alpha=10.5)\n",
    "    rg = Ridge(alpha=1.5)\n",
    "    dt = DecisionTreeRegressor(max_depth=5)\n",
    "    rfr = RandomForestRegressor()\n",
    "    gbr = GradientBoostingRegressor()\n",
    "    knr = KNeighborsRegressor(n_neighbors=5)\n",
    "    rgs = [('Linear Regression', lr),\n",
    "        ('Lasso', ls),\n",
    "        ('Ridge', rg),\n",
    "        ('Decision Tree', dt),\n",
    "        ('Gradient Boosting', gbr),\n",
    "        ('Random Forest', rfr),        \n",
    "        ('KNearest Neighbor',knr)       \n",
    "    ]\n",
    "    for name,rg in rgs:\n",
    "        scores = cross_val_score(rg, X, y, cv=cv) \n",
    "        #rg.fit(X_train,y_train)\n",
    "        #pred = rg.predict(X_test)\n",
    "        score = format(mean(scores), '.4f')\n",
    "        print(\"{} : {}\".format(name,score))"
   ]
  },
  {
   "cell_type": "code",
   "execution_count": 4,
   "metadata": {},
   "outputs": [
    {
     "name": "stdout",
     "output_type": "stream",
     "text": [
      "Linear Regression : 0.8156\n",
      "Lasso : 0.8133\n",
      "Ridge : 0.8160\n",
      "Decision Tree : 0.8688\n",
      "Gradient Boosting : 0.8995\n",
      "Random Forest : 0.8890\n",
      "KNearest Neighbor : 0.3716\n"
     ]
    }
   ],
   "source": [
    "fitting_models_CV()"
   ]
  },
  {
   "cell_type": "markdown",
   "metadata": {},
   "source": [
    "make a pipeline of knn"
   ]
  },
  {
   "cell_type": "code",
   "execution_count": 5,
   "metadata": {},
   "outputs": [],
   "source": [
    "def fitting_models_CV2():\n",
    "    cv = RepeatedKFold(n_splits=10, n_repeats=1)#, random_state=1)\n",
    "    \n",
    "    lr=LinearRegression()\n",
    "    ls = Lasso(alpha=10.5)\n",
    "    rg = Ridge(alpha=1.5)\n",
    "    dt = DecisionTreeRegressor(max_depth=5)\n",
    "    rfr = RandomForestRegressor()\n",
    "    gbr = GradientBoostingRegressor()\n",
    "    knr = KNeighborsRegressor(n_neighbors=5)\n",
    "    pipe_knr = Pipeline([(\"scaler\", MinMaxScaler()), \n",
    "                         (\"knr\", KNeighborsRegressor(n_neighbors=5))])\n",
    "    rgs = [('Linear Regression', lr),\n",
    "        ('Lasso Regression', ls),\n",
    "        ('Ridge Regression', rg),\n",
    "        ('Decision Tree', dt),\n",
    "        ('Gradient Boosting', gbr),\n",
    "        ('Random Forest', rfr),        \n",
    "        ('KNearest Neighbor',knr),\n",
    "        ('Scaled KNearest',pipe_knr)       \n",
    "    ]\n",
    "    for name,rg in rgs:\n",
    "        start = time.perf_counter()\n",
    "        scores = cross_val_score(rg, X, y, cv=cv) \n",
    "        end = time.perf_counter()\n",
    "        #rg.fit(X_train,y_train)\n",
    "        #pred = rg.predict(X_test)\n",
    "        score = format(mean(scores), '.4f')\n",
    "        duration = format((end-start),'.4f')\n",
    "        print(\"{} : {} - {}\".format(name,score,duration))"
   ]
  },
  {
   "cell_type": "code",
   "execution_count": 6,
   "metadata": {},
   "outputs": [
    {
     "name": "stdout",
     "output_type": "stream",
     "text": [
      "Linear Regression : 0.8166 - 0.2020\n",
      "Lasso Regression : 0.8187 - 0.1567\n",
      "Ridge Regression : 0.8164 - 0.2002\n",
      "Decision Tree : 0.8637 - 0.2654\n",
      "Gradient Boosting : 0.8985 - 4.0359\n",
      "Random Forest : 0.8908 - 11.1887\n",
      "KNearest Neighbor : 0.3852 - 0.3404\n",
      "Scaled KNearest : 0.8294 - 0.4917\n"
     ]
    }
   ],
   "source": [
    "fitting_models_CV2()"
   ]
  },
  {
   "cell_type": "markdown",
   "metadata": {},
   "source": [
    "hyperparameter optimization - gradient boosting regressor "
   ]
  },
  {
   "cell_type": "code",
   "execution_count": 7,
   "metadata": {},
   "outputs": [
    {
     "name": "stdout",
     "output_type": "stream",
     "text": [
      "Fitting 10 folds for each of 18 candidates, totalling 180 fits\n",
      "GradientBoostingRegressor()\n",
      "0.8984643994505171\n",
      "{'learning_rate': 0.1, 'max_depth': 3, 'n_estimators': 100}\n"
     ]
    }
   ],
   "source": [
    "parameters = {'learning_rate': [0.05,0.1],#, 0.15],#,0.07,0.10],\n",
    "                #'subsample'    : [0.9, 0.5, 0.2, 0.1],\n",
    "                'n_estimators' : [100,200,300],#,400],\n",
    "                'max_depth'    : [3,5,7]\n",
    "                }\n",
    "gbr = GradientBoostingRegressor()\n",
    "cv = RepeatedKFold(n_splits=10, n_repeats=1)#, random_state=1)\n",
    "grid_search = GridSearchCV(gbr, parameters, cv=cv, n_jobs=-1,verbose=3)#, refit=False)\n",
    "grid_search.fit(X, y)\n",
    "print(grid_search.best_estimator_)\n",
    "print(grid_search.best_score_)\n",
    "print(grid_search.best_params_)"
   ]
  },
  {
   "cell_type": "code",
   "execution_count": 8,
   "metadata": {},
   "outputs": [
    {
     "data": {
      "image/png": "[encoded data removed]",
      "text/plain": [
       "<Figure size 432x288 with 1 Axes>"
      ]
     },
     "metadata": {
      "needs_background": "light"
     },
     "output_type": "display_data"
    }
   ],
   "source": [
    "X_train, X_test, y_train, y_test = train_test_split(X, y, test_size = 0.3)\n",
    "regRF = RandomForestRegressor(max_depth=6, max_features=4, min_samples_split=8,\n",
    "                      n_estimators=300)#, random_state=0)\n",
    "regRF.fit(X_train, y_train)\n",
    "importance_rf = pd.Series(regRF.feature_importances_, index=X_train.columns)\n",
    "importance_rf_sorted = importance_rf.sort_values()\n",
    "importance_rf_sorted.nlargest(20).plot(kind='barh', color='orange')\n",
    "plt.title(\"Feature Importance Random Forest\")\n",
    "plt.show()"
   ]
  },
  {
   "cell_type": "code",
   "execution_count": 9,
   "metadata": {},
   "outputs": [
    {
     "data": {
      "image/png": "[encoded data removed]",
      "text/plain": [
       "<Figure size 432x288 with 1 Axes>"
      ]
     },
     "metadata": {
      "needs_background": "light"
     },
     "output_type": "display_data"
    }
   ],
   "source": [
    "regGB = GradientBoostingRegressor(max_depth=10, max_features=4, min_samples_split=8,\n",
    "                      n_estimators=300)#, random_state=0)\n",
    "regGB.fit(X_train, y_train)\n",
    "importance_rf = pd.Series(regGB.feature_importances_, index=X_train.columns)\n",
    "importance_rf_sorted = importance_rf.sort_values()\n",
    "importance_rf_sorted.nlargest(20).plot(kind='barh', color='orange')\n",
    "plt.title(\"Feature Importance Random Forest\")\n",
    "plt.show()"
   ]
  },
  {
   "cell_type": "code",
   "execution_count": 10,
   "metadata": {},
   "outputs": [],
   "source": [
    "from sklearn.ensemble import BaggingRegressor\n",
    "from sklearn.ensemble import VotingRegressor\n",
    "from sklearn.ensemble import StackingRegressor"
   ]
  },
  {
   "cell_type": "code",
   "execution_count": 11,
   "metadata": {},
   "outputs": [
    {
     "name": "stdout",
     "output_type": "stream",
     "text": [
      "0.8204\n"
     ]
    }
   ],
   "source": [
    "cv = RepeatedKFold(n_splits=10, n_repeats=1)#, random_state=1)\n",
    "reg_bg = BaggingRegressor(base_estimator=Ridge(1),\n",
    "                        n_estimators=20, random_state=0)\n",
    "scores = cross_val_score(reg_bg, X, y, cv=cv)\n",
    "score = format(mean(scores), '.4f')\n",
    "print(score)"
   ]
  },
  {
   "cell_type": "code",
   "execution_count": 12,
   "metadata": {},
   "outputs": [
    {
     "name": "stdout",
     "output_type": "stream",
     "text": [
      "0.8776\n"
     ]
    }
   ],
   "source": [
    "r1 = LinearRegression()\n",
    "r2 = DecisionTreeRegressor(max_depth=5)\n",
    "r3 = Pipeline([(\"scaler\", MinMaxScaler()), \n",
    "                         (\"knr\", KNeighborsRegressor(n_neighbors=5))])\n",
    "\n",
    "reg_vr = VotingRegressor([('lr', r1), ('dt', r2),('knn', r3)])\n",
    "scores = cross_val_score(reg_vr, X, y, cv=cv)\n",
    "score = format(mean(scores), '.4f')\n",
    "print(score)"
   ]
  },
  {
   "cell_type": "code",
   "execution_count": 14,
   "metadata": {},
   "outputs": [
    {
     "name": "stdout",
     "output_type": "stream",
     "text": [
      "0.0346\n"
     ]
    }
   ],
   "source": [
    "estimators = [\n",
    "('lr', LinearRegression()),\n",
    "('dt', DecisionTreeRegressor(max_depth=5)),\n",
    "('knn', Pipeline([(\"scaler\", MinMaxScaler()), \n",
    "                         (\"knr\", KNeighborsRegressor(n_neighbors=5))]))\n",
    "]\n",
    "\n",
    "reg_sr = StackingRegressor(estimators=estimators, final_estimator=RandomForestRegressor(n_estimators=100,random_state=42))\n",
    "scores = cross_val_score(reg_sr, X, y, cv=cv)\n",
    "score = format(mean(scores), '.4f')\n",
    "print(score)"
   ]
  },
  {
   "cell_type": "code",
   "execution_count": 15,
   "metadata": {},
   "outputs": [],
   "source": [
    "from sklearn.datasets import make_regression\n",
    "import numpy as np"
   ]
  },
  {
   "cell_type": "code",
   "execution_count": 16,
   "metadata": {},
   "outputs": [],
   "source": [
    "X, y = make_regression(n_samples=10000, n_features=2,\n",
    "        n_informative=2, n_targets=1,\n",
    "        random_state=0, shuffle=False)"
   ]
  },
  {
   "cell_type": "code",
   "execution_count": 17,
   "metadata": {},
   "outputs": [],
   "source": [
    "x1 = np.random.normal(0, 3, 10000)\n",
    "x2 = np.random.normal(4, 2, 10000)\n",
    "y = (1+(x1+x2+1)**2)#*(19-14*x1+3*x1^2-14*x2+6*x1*x2+3*x2^2)"
   ]
  },
  {
   "cell_type": "code",
   "execution_count": null,
   "metadata": {},
   "outputs": [],
   "source": [
    "# f(x, y) = [1 + (x + y + 1)2(19 - 14x + 3x2 - 14y + 6xy + 3y2)]×[30 + (2x - 3y)2(18 - 32x + 12x2 + 48y - 36xy + 27y2)] "
   ]
  },
  {
   "cell_type": "code",
   "execution_count": 18,
   "metadata": {},
   "outputs": [],
   "source": [
    "y = (((1 + (X[:,0] + X[:,1] + 1)**2)*(19 - 14*X[:,0] + 3*X[:,0]**2 - 14*X[:,1] + 6*X[:,0]*X[:,1] + 3*X[:,1]**2)) *\n",
    "    (30 + (2*X[:,0] - 3*X[:,1])**2 * (18 - 32*X[:,0] + 12*X[:,0]**2 + 48*X[:,1] - 36*X[:,0]*X[:,1] + 27*X[:,1]**2))) "
   ]
  },
  {
   "cell_type": "code",
   "execution_count": 19,
   "metadata": {},
   "outputs": [
    {
     "name": "stdout",
     "output_type": "stream",
     "text": [
      "Linear Regression : 0.0357 - 0.1098\n",
      "Lasso Regression : 0.0500 - 0.0756\n",
      "Ridge Regression : 0.0097 - 0.0643\n",
      "Decision Tree : 0.4690 - 0.3018\n",
      "Gradient Boosting : 0.8758 - 21.0505\n",
      "Random Forest : 0.8761 - 115.7888\n",
      "KNearest Neighbor : 0.7779 - 0.1685\n",
      "Scaled KNearest : 0.7984 - 0.2256\n"
     ]
    }
   ],
   "source": [
    "fitting_models_CV2()"
   ]
  }
 ],
 "metadata": {
  "kernelspec": {
   "display_name": "Python 3.8.5 64-bit",
   "language": "python",
   "name": "python3"
  },
  "language_info": {
   "codemirror_mode": {
    "name": "ipython",
    "version": 3
   },
   "file_extension": ".py",
   "mimetype": "text/x-python",
   "name": "python",
   "nbconvert_exporter": "python",
   "pygments_lexer": "ipython3",
   "version": "3.8.5"
  },
  "orig_nbformat": 4,
  "vscode": {
   "interpreter": {
    "hash": "5e9236c168fd9c5a2497735f30867c8b2a4981b493523b82ffb7e802a066bea3"
   }
  }
 },
 "nbformat": 4,
 "nbformat_minor": 2
}
